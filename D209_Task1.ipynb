{
 "cells": [
  {
   "cell_type": "code",
   "execution_count": 173,
   "metadata": {},
   "outputs": [],
   "source": [
    "# Standard data science imports\n",
    "import numpy as np\n",
    "import pandas as pd\n",
    "from pandas import Series, DataFrame\n",
    "# Visualization libraries\n",
    "import seaborn as sns\n",
    "import matplotlib.pyplot as plt\n",
    "%matplotlib inline\n",
    "# Scikit-learn\n",
    "import sklearn\n",
    "from sklearn import datasets\n",
    "from sklearn import preprocessing\n",
    "from sklearn.neighbors import KNeighborsClassifier\n",
    "from sklearn.model_selection import train_test_split\n",
    "from sklearn import metrics\n",
    "from sklearn.metrics import classification_report\n",
    "from sklearn.metrics import accuracy_score\n",
    "from sklearn.model_selection import cross_val_score, train_test_split\n",
    "from sklearn.preprocessing import StandardScaler\n",
    "from sklearn.pipeline import Pipeline"
   ]
  },
  {
   "cell_type": "code",
   "execution_count": 174,
   "metadata": {},
   "outputs": [
    {
     "data": {
      "text/html": [
       "<div>\n",
       "<style scoped>\n",
       "    .dataframe tbody tr th:only-of-type {\n",
       "        vertical-align: middle;\n",
       "    }\n",
       "\n",
       "    .dataframe tbody tr th {\n",
       "        vertical-align: top;\n",
       "    }\n",
       "\n",
       "    .dataframe thead th {\n",
       "        text-align: right;\n",
       "    }\n",
       "</style>\n",
       "<table border=\"1\" class=\"dataframe\">\n",
       "  <thead>\n",
       "    <tr style=\"text-align: right;\">\n",
       "      <th></th>\n",
       "      <th>CaseOrder</th>\n",
       "      <th>Customer_id</th>\n",
       "      <th>Interaction</th>\n",
       "      <th>UID</th>\n",
       "      <th>City</th>\n",
       "      <th>State</th>\n",
       "      <th>County</th>\n",
       "      <th>Zip</th>\n",
       "      <th>Lat</th>\n",
       "      <th>Lng</th>\n",
       "      <th>...</th>\n",
       "      <th>TotalCharge</th>\n",
       "      <th>Additional_charges</th>\n",
       "      <th>Item1</th>\n",
       "      <th>Item2</th>\n",
       "      <th>Item3</th>\n",
       "      <th>Item4</th>\n",
       "      <th>Item5</th>\n",
       "      <th>Item6</th>\n",
       "      <th>Item7</th>\n",
       "      <th>Item8</th>\n",
       "    </tr>\n",
       "  </thead>\n",
       "  <tbody>\n",
       "    <tr>\n",
       "      <th>0</th>\n",
       "      <td>1</td>\n",
       "      <td>C412403</td>\n",
       "      <td>8cd49b13-f45a-4b47-a2bd-173ffa932c2f</td>\n",
       "      <td>3a83ddb66e2ae73798bdf1d705dc0932</td>\n",
       "      <td>Eva</td>\n",
       "      <td>AL</td>\n",
       "      <td>Morgan</td>\n",
       "      <td>35621</td>\n",
       "      <td>34.34960</td>\n",
       "      <td>-86.72508</td>\n",
       "      <td>...</td>\n",
       "      <td>3726.702860</td>\n",
       "      <td>17939.403420</td>\n",
       "      <td>3</td>\n",
       "      <td>3</td>\n",
       "      <td>2</td>\n",
       "      <td>2</td>\n",
       "      <td>4</td>\n",
       "      <td>3</td>\n",
       "      <td>3</td>\n",
       "      <td>4</td>\n",
       "    </tr>\n",
       "    <tr>\n",
       "      <th>1</th>\n",
       "      <td>2</td>\n",
       "      <td>Z919181</td>\n",
       "      <td>d2450b70-0337-4406-bdbb-bc1037f1734c</td>\n",
       "      <td>176354c5eef714957d486009feabf195</td>\n",
       "      <td>Marianna</td>\n",
       "      <td>FL</td>\n",
       "      <td>Jackson</td>\n",
       "      <td>32446</td>\n",
       "      <td>30.84513</td>\n",
       "      <td>-85.22907</td>\n",
       "      <td>...</td>\n",
       "      <td>4193.190458</td>\n",
       "      <td>17612.998120</td>\n",
       "      <td>3</td>\n",
       "      <td>4</td>\n",
       "      <td>3</td>\n",
       "      <td>4</td>\n",
       "      <td>4</td>\n",
       "      <td>4</td>\n",
       "      <td>3</td>\n",
       "      <td>3</td>\n",
       "    </tr>\n",
       "    <tr>\n",
       "      <th>2</th>\n",
       "      <td>3</td>\n",
       "      <td>F995323</td>\n",
       "      <td>a2057123-abf5-4a2c-abad-8ffe33512562</td>\n",
       "      <td>e19a0fa00aeda885b8a436757e889bc9</td>\n",
       "      <td>Sioux Falls</td>\n",
       "      <td>SD</td>\n",
       "      <td>Minnehaha</td>\n",
       "      <td>57110</td>\n",
       "      <td>43.54321</td>\n",
       "      <td>-96.63772</td>\n",
       "      <td>...</td>\n",
       "      <td>2434.234222</td>\n",
       "      <td>17505.192460</td>\n",
       "      <td>2</td>\n",
       "      <td>4</td>\n",
       "      <td>4</td>\n",
       "      <td>4</td>\n",
       "      <td>3</td>\n",
       "      <td>4</td>\n",
       "      <td>3</td>\n",
       "      <td>3</td>\n",
       "    </tr>\n",
       "    <tr>\n",
       "      <th>3</th>\n",
       "      <td>4</td>\n",
       "      <td>A879973</td>\n",
       "      <td>1dec528d-eb34-4079-adce-0d7a40e82205</td>\n",
       "      <td>cd17d7b6d152cb6f23957346d11c3f07</td>\n",
       "      <td>New Richland</td>\n",
       "      <td>MN</td>\n",
       "      <td>Waseca</td>\n",
       "      <td>56072</td>\n",
       "      <td>43.89744</td>\n",
       "      <td>-93.51479</td>\n",
       "      <td>...</td>\n",
       "      <td>2127.830423</td>\n",
       "      <td>12993.437350</td>\n",
       "      <td>3</td>\n",
       "      <td>5</td>\n",
       "      <td>5</td>\n",
       "      <td>3</td>\n",
       "      <td>4</td>\n",
       "      <td>5</td>\n",
       "      <td>5</td>\n",
       "      <td>5</td>\n",
       "    </tr>\n",
       "    <tr>\n",
       "      <th>4</th>\n",
       "      <td>5</td>\n",
       "      <td>C544523</td>\n",
       "      <td>5885f56b-d6da-43a3-8760-83583af94266</td>\n",
       "      <td>d2f0425877b10ed6bb381f3e2579424a</td>\n",
       "      <td>West Point</td>\n",
       "      <td>VA</td>\n",
       "      <td>King William</td>\n",
       "      <td>23181</td>\n",
       "      <td>37.59894</td>\n",
       "      <td>-76.88958</td>\n",
       "      <td>...</td>\n",
       "      <td>2113.073274</td>\n",
       "      <td>3716.525786</td>\n",
       "      <td>2</td>\n",
       "      <td>1</td>\n",
       "      <td>3</td>\n",
       "      <td>3</td>\n",
       "      <td>5</td>\n",
       "      <td>3</td>\n",
       "      <td>4</td>\n",
       "      <td>3</td>\n",
       "    </tr>\n",
       "  </tbody>\n",
       "</table>\n",
       "<p>5 rows × 50 columns</p>\n",
       "</div>"
      ],
      "text/plain": [
       "   CaseOrder Customer_id                           Interaction  \\\n",
       "0          1     C412403  8cd49b13-f45a-4b47-a2bd-173ffa932c2f   \n",
       "1          2     Z919181  d2450b70-0337-4406-bdbb-bc1037f1734c   \n",
       "2          3     F995323  a2057123-abf5-4a2c-abad-8ffe33512562   \n",
       "3          4     A879973  1dec528d-eb34-4079-adce-0d7a40e82205   \n",
       "4          5     C544523  5885f56b-d6da-43a3-8760-83583af94266   \n",
       "\n",
       "                                UID          City State        County    Zip  \\\n",
       "0  3a83ddb66e2ae73798bdf1d705dc0932           Eva    AL        Morgan  35621   \n",
       "1  176354c5eef714957d486009feabf195      Marianna    FL       Jackson  32446   \n",
       "2  e19a0fa00aeda885b8a436757e889bc9   Sioux Falls    SD     Minnehaha  57110   \n",
       "3  cd17d7b6d152cb6f23957346d11c3f07  New Richland    MN        Waseca  56072   \n",
       "4  d2f0425877b10ed6bb381f3e2579424a    West Point    VA  King William  23181   \n",
       "\n",
       "        Lat       Lng  ...   TotalCharge Additional_charges Item1 Item2  \\\n",
       "0  34.34960 -86.72508  ...   3726.702860       17939.403420     3     3   \n",
       "1  30.84513 -85.22907  ...   4193.190458       17612.998120     3     4   \n",
       "2  43.54321 -96.63772  ...   2434.234222       17505.192460     2     4   \n",
       "3  43.89744 -93.51479  ...   2127.830423       12993.437350     3     5   \n",
       "4  37.59894 -76.88958  ...   2113.073274        3716.525786     2     1   \n",
       "\n",
       "   Item3  Item4  Item5 Item6 Item7 Item8  \n",
       "0      2      2      4     3     3     4  \n",
       "1      3      4      4     4     3     3  \n",
       "2      4      4      3     4     3     3  \n",
       "3      5      3      4     5     5     5  \n",
       "4      3      3      5     3     4     3  \n",
       "\n",
       "[5 rows x 50 columns]"
      ]
     },
     "execution_count": 174,
     "metadata": {},
     "output_type": "execute_result"
    }
   ],
   "source": [
    "#import initial data\n",
    "data = pd.read_csv (\"C:/Users/blien/Documents/WGU/D209/Task1/3kfid8emf9rkc9ek30sf/medical_clean.csv\",dtype={'locationid':np.int64}) \n",
    "data.head()"
   ]
  },
  {
   "cell_type": "code",
   "execution_count": 175,
   "metadata": {},
   "outputs": [
    {
     "data": {
      "text/plain": [
       "pandas.core.frame.DataFrame"
      ]
     },
     "execution_count": 175,
     "metadata": {},
     "output_type": "execute_result"
    }
   ],
   "source": [
    "type(data)"
   ]
  },
  {
   "cell_type": "code",
   "execution_count": 176,
   "metadata": {},
   "outputs": [
    {
     "name": "stdout",
     "output_type": "stream",
     "text": [
      "Index(['CaseOrder', 'Customer_id', 'Interaction', 'UID', 'City', 'State',\n",
      "       'County', 'Zip', 'Lat', 'Lng', 'Population', 'Area', 'TimeZone', 'Job',\n",
      "       'Children', 'Age', 'Income', 'Marital', 'Gender', 'ReAdmis',\n",
      "       'VitD_levels', 'Doc_visits', 'Full_meals_eaten', 'vitD_supp',\n",
      "       'Soft_drink', 'Initial_admin', 'HighBlood', 'Stroke',\n",
      "       'Complication_risk', 'Overweight', 'Arthritis', 'Diabetes',\n",
      "       'Hyperlipidemia', 'BackPain', 'Anxiety', 'Allergic_rhinitis',\n",
      "       'Reflux_esophagitis', 'Asthma', 'Services', 'Initial_days',\n",
      "       'TotalCharge', 'Additional_charges', 'Item1', 'Item2', 'Item3', 'Item4',\n",
      "       'Item5', 'Item6', 'Item7', 'Item8'],\n",
      "      dtype='object')\n"
     ]
    }
   ],
   "source": [
    "print(data.keys())"
   ]
  },
  {
   "cell_type": "code",
   "execution_count": 177,
   "metadata": {},
   "outputs": [
    {
     "name": "stdout",
     "output_type": "stream",
     "text": [
      "CaseOrder             0\n",
      "Customer_id           0\n",
      "Interaction           0\n",
      "UID                   0\n",
      "City                  0\n",
      "State                 0\n",
      "County                0\n",
      "Zip                   0\n",
      "Lat                   0\n",
      "Lng                   0\n",
      "Population            0\n",
      "Area                  0\n",
      "TimeZone              0\n",
      "Job                   0\n",
      "Children              0\n",
      "Age                   0\n",
      "Income                0\n",
      "Marital               0\n",
      "Gender                0\n",
      "ReAdmis               0\n",
      "VitD_levels           0\n",
      "Doc_visits            0\n",
      "Full_meals_eaten      0\n",
      "vitD_supp             0\n",
      "Soft_drink            0\n",
      "Initial_admin         0\n",
      "HighBlood             0\n",
      "Stroke                0\n",
      "Complication_risk     0\n",
      "Overweight            0\n",
      "Arthritis             0\n",
      "Diabetes              0\n",
      "Hyperlipidemia        0\n",
      "BackPain              0\n",
      "Anxiety               0\n",
      "Allergic_rhinitis     0\n",
      "Reflux_esophagitis    0\n",
      "Asthma                0\n",
      "Services              0\n",
      "Initial_days          0\n",
      "TotalCharge           0\n",
      "Additional_charges    0\n",
      "Item1                 0\n",
      "Item2                 0\n",
      "Item3                 0\n",
      "Item4                 0\n",
      "Item5                 0\n",
      "Item6                 0\n",
      "Item7                 0\n",
      "Item8                 0\n",
      "dtype: int64\n"
     ]
    }
   ],
   "source": [
    "data_nulls = data.isnull().sum()\n",
    "print(data_nulls)"
   ]
  },
  {
   "cell_type": "code",
   "execution_count": 178,
   "metadata": {},
   "outputs": [
    {
     "data": {
      "text/plain": [
       "CaseOrder               int64\n",
       "Customer_id            object\n",
       "Interaction            object\n",
       "UID                    object\n",
       "City                   object\n",
       "State                  object\n",
       "County                 object\n",
       "Zip                     int64\n",
       "Lat                   float64\n",
       "Lng                   float64\n",
       "Population              int64\n",
       "Area                   object\n",
       "TimeZone               object\n",
       "Job                    object\n",
       "Children                int64\n",
       "Age                     int64\n",
       "Income                float64\n",
       "Marital                object\n",
       "Gender                 object\n",
       "ReAdmis                object\n",
       "VitD_levels           float64\n",
       "Doc_visits              int64\n",
       "Full_meals_eaten        int64\n",
       "vitD_supp               int64\n",
       "Soft_drink             object\n",
       "Initial_admin          object\n",
       "HighBlood              object\n",
       "Stroke                 object\n",
       "Complication_risk      object\n",
       "Overweight             object\n",
       "Arthritis              object\n",
       "Diabetes               object\n",
       "Hyperlipidemia         object\n",
       "BackPain               object\n",
       "Anxiety                object\n",
       "Allergic_rhinitis      object\n",
       "Reflux_esophagitis     object\n",
       "Asthma                 object\n",
       "Services               object\n",
       "Initial_days          float64\n",
       "TotalCharge           float64\n",
       "Additional_charges    float64\n",
       "Item1                   int64\n",
       "Item2                   int64\n",
       "Item3                   int64\n",
       "Item4                   int64\n",
       "Item5                   int64\n",
       "Item6                   int64\n",
       "Item7                   int64\n",
       "Item8                   int64\n",
       "dtype: object"
      ]
     },
     "execution_count": 178,
     "metadata": {},
     "output_type": "execute_result"
    }
   ],
   "source": [
    "data.dtypes"
   ]
  },
  {
   "cell_type": "code",
   "execution_count": 179,
   "metadata": {},
   "outputs": [
    {
     "name": "stdout",
     "output_type": "stream",
     "text": [
      "Index(['CaseOrder', 'Zip', 'Lat', 'Lng', 'Population', 'Children', 'Age',\n",
      "       'Income', 'VitD_levels', 'Doc_visits', 'Full_meals_eaten', 'vitD_supp',\n",
      "       'Initial_days', 'TotalCharge', 'Additional_charges', 'Item1', 'Item2',\n",
      "       'Item3', 'Item4', 'Item5', 'Item6', 'Item7', 'Item8'],\n",
      "      dtype='object')\n"
     ]
    }
   ],
   "source": [
    "# variable for numeric data\n",
    "num_cols = data.select_dtypes(include=\"number\").columns\n",
    "print(num_cols)"
   ]
  },
  {
   "cell_type": "code",
   "execution_count": 180,
   "metadata": {},
   "outputs": [
    {
     "name": "stdout",
     "output_type": "stream",
     "text": [
      "Index(['Customer_id', 'Interaction', 'UID', 'City', 'State', 'County', 'Area',\n",
      "       'TimeZone', 'Job', 'Marital', 'Gender', 'ReAdmis', 'Soft_drink',\n",
      "       'Initial_admin', 'HighBlood', 'Stroke', 'Complication_risk',\n",
      "       'Overweight', 'Arthritis', 'Diabetes', 'Hyperlipidemia', 'BackPain',\n",
      "       'Anxiety', 'Allergic_rhinitis', 'Reflux_esophagitis', 'Asthma',\n",
      "       'Services'],\n",
      "      dtype='object')\n"
     ]
    }
   ],
   "source": [
    "# variable for categorical data\n",
    "cat_cols = data.select_dtypes(include=\"object\").columns\n",
    "print(cat_cols)"
   ]
  },
  {
   "cell_type": "code",
   "execution_count": 181,
   "metadata": {},
   "outputs": [
    {
     "data": {
      "text/plain": [
       "<Figure size 720x1440 with 0 Axes>"
      ]
     },
     "metadata": {},
     "output_type": "display_data"
    },
    {
     "data": {
      "image/png": "[encoded data removed]",
      "text/plain": [
       "<Figure size 1080x1080 with 25 Axes>"
      ]
     },
     "metadata": {},
     "output_type": "display_data"
    }
   ],
   "source": [
    "# histogram plot numeric data\n",
    "fig = plt.figure(figsize=(10, 20))\n",
    "ax = data[num_cols].hist(bins = 15, figsize=(15,15))\n",
    "fig.tight_layout(h_pad=5, w_pad=5)\n",
    "plt.show()"
   ]
  },
  {
   "cell_type": "code",
   "execution_count": 182,
   "metadata": {},
   "outputs": [
    {
     "data": {
      "image/png": "[encoded data removed]",
      "text/plain": [
       "<Figure size 432x288 with 1 Axes>"
      ]
     },
     "metadata": {},
     "output_type": "display_data"
    }
   ],
   "source": [
    "# Set plot style to ggplot for aesthetics & R style\n",
    "plt.style.use('ggplot')\n",
    "# Countplot more useful than scatter_matrix when features of dataset are binary\n",
    "plt.figure()\n",
    "sns.countplot(x= data['ReAdmis'], hue= data['Stroke'], data=data, palette='RdBu')\n",
    "plt.xticks([0,1], ['No', 'Yes'])\n",
    "plt.show()"
   ]
  },
  {
   "cell_type": "code",
   "execution_count": 183,
   "metadata": {},
   "outputs": [
    {
     "data": {
      "image/png": "[encoded data removed]",
      "text/plain": [
       "<Figure size 432x288 with 1 Axes>"
      ]
     },
     "metadata": {},
     "output_type": "display_data"
    }
   ],
   "source": [
    "# Set plot style to ggplot for aesthetics & R style\n",
    "plt.style.use('ggplot')\n",
    "# Countplot more useful than scatter_matrix when features of dataset are binary\n",
    "plt.figure()\n",
    "sns.countplot(x= data['ReAdmis'], hue= data['Overweight'], data=data, palette='RdBu')\n",
    "plt.xticks([0,1], ['No', 'Yes'])\n",
    "plt.show()"
   ]
  },
  {
   "cell_type": "code",
   "execution_count": 184,
   "metadata": {},
   "outputs": [
    {
     "data": {
      "image/png": "[encoded data removed]",
      "text/plain": [
       "<Figure size 432x288 with 1 Axes>"
      ]
     },
     "metadata": {},
     "output_type": "display_data"
    }
   ],
   "source": [
    "# Set plot style to ggplot for aesthetics & R style\n",
    "plt.style.use('ggplot')\n",
    "# Countplot more useful than scatter_matrix when features of dataset are binary\n",
    "plt.figure()\n",
    "sns.countplot(x= data['ReAdmis'], hue= data['Asthma'], data=data, palette='RdBu')\n",
    "plt.xticks([0,1], ['No', 'Yes'])\n",
    "plt.show()"
   ]
  },
  {
   "cell_type": "code",
   "execution_count": 185,
   "metadata": {},
   "outputs": [
    {
     "data": {
      "text/html": [
       "<div>\n",
       "<style scoped>\n",
       "    .dataframe tbody tr th:only-of-type {\n",
       "        vertical-align: middle;\n",
       "    }\n",
       "\n",
       "    .dataframe tbody tr th {\n",
       "        vertical-align: top;\n",
       "    }\n",
       "\n",
       "    .dataframe thead th {\n",
       "        text-align: right;\n",
       "    }\n",
       "</style>\n",
       "<table border=\"1\" class=\"dataframe\">\n",
       "  <thead>\n",
       "    <tr style=\"text-align: right;\">\n",
       "      <th></th>\n",
       "      <th>ReAdmis</th>\n",
       "      <th>HighBlood</th>\n",
       "      <th>Stroke</th>\n",
       "      <th>Overweight</th>\n",
       "      <th>Arthritis</th>\n",
       "      <th>Diabetes</th>\n",
       "      <th>Hyperlipidemia</th>\n",
       "      <th>BackPain</th>\n",
       "      <th>Anxiety</th>\n",
       "      <th>Allergic_rhinitis</th>\n",
       "      <th>Reflux_esophagitis</th>\n",
       "      <th>Asthma</th>\n",
       "      <th>Initial_days</th>\n",
       "      <th>TotalCharge</th>\n",
       "    </tr>\n",
       "  </thead>\n",
       "  <tbody>\n",
       "    <tr>\n",
       "      <th>0</th>\n",
       "      <td>No</td>\n",
       "      <td>Yes</td>\n",
       "      <td>No</td>\n",
       "      <td>No</td>\n",
       "      <td>Yes</td>\n",
       "      <td>Yes</td>\n",
       "      <td>No</td>\n",
       "      <td>Yes</td>\n",
       "      <td>Yes</td>\n",
       "      <td>Yes</td>\n",
       "      <td>No</td>\n",
       "      <td>Yes</td>\n",
       "      <td>10.585770</td>\n",
       "      <td>3726.702860</td>\n",
       "    </tr>\n",
       "    <tr>\n",
       "      <th>1</th>\n",
       "      <td>No</td>\n",
       "      <td>Yes</td>\n",
       "      <td>No</td>\n",
       "      <td>Yes</td>\n",
       "      <td>No</td>\n",
       "      <td>No</td>\n",
       "      <td>No</td>\n",
       "      <td>No</td>\n",
       "      <td>No</td>\n",
       "      <td>No</td>\n",
       "      <td>Yes</td>\n",
       "      <td>No</td>\n",
       "      <td>15.129562</td>\n",
       "      <td>4193.190458</td>\n",
       "    </tr>\n",
       "    <tr>\n",
       "      <th>2</th>\n",
       "      <td>No</td>\n",
       "      <td>Yes</td>\n",
       "      <td>No</td>\n",
       "      <td>Yes</td>\n",
       "      <td>No</td>\n",
       "      <td>Yes</td>\n",
       "      <td>No</td>\n",
       "      <td>No</td>\n",
       "      <td>No</td>\n",
       "      <td>No</td>\n",
       "      <td>No</td>\n",
       "      <td>No</td>\n",
       "      <td>4.772177</td>\n",
       "      <td>2434.234222</td>\n",
       "    </tr>\n",
       "    <tr>\n",
       "      <th>3</th>\n",
       "      <td>No</td>\n",
       "      <td>No</td>\n",
       "      <td>Yes</td>\n",
       "      <td>No</td>\n",
       "      <td>Yes</td>\n",
       "      <td>No</td>\n",
       "      <td>No</td>\n",
       "      <td>No</td>\n",
       "      <td>No</td>\n",
       "      <td>No</td>\n",
       "      <td>Yes</td>\n",
       "      <td>Yes</td>\n",
       "      <td>1.714879</td>\n",
       "      <td>2127.830423</td>\n",
       "    </tr>\n",
       "    <tr>\n",
       "      <th>4</th>\n",
       "      <td>No</td>\n",
       "      <td>No</td>\n",
       "      <td>No</td>\n",
       "      <td>No</td>\n",
       "      <td>No</td>\n",
       "      <td>No</td>\n",
       "      <td>Yes</td>\n",
       "      <td>No</td>\n",
       "      <td>No</td>\n",
       "      <td>Yes</td>\n",
       "      <td>No</td>\n",
       "      <td>No</td>\n",
       "      <td>1.254807</td>\n",
       "      <td>2113.073274</td>\n",
       "    </tr>\n",
       "  </tbody>\n",
       "</table>\n",
       "</div>"
      ],
      "text/plain": [
       "  ReAdmis HighBlood Stroke Overweight Arthritis Diabetes Hyperlipidemia  \\\n",
       "0      No       Yes     No         No       Yes      Yes             No   \n",
       "1      No       Yes     No        Yes        No       No             No   \n",
       "2      No       Yes     No        Yes        No      Yes             No   \n",
       "3      No        No    Yes         No       Yes       No             No   \n",
       "4      No        No     No         No        No       No            Yes   \n",
       "\n",
       "  BackPain Anxiety Allergic_rhinitis Reflux_esophagitis Asthma  Initial_days  \\\n",
       "0      Yes     Yes               Yes                 No    Yes     10.585770   \n",
       "1       No      No                No                Yes     No     15.129562   \n",
       "2       No      No                No                 No     No      4.772177   \n",
       "3       No      No                No                Yes    Yes      1.714879   \n",
       "4       No      No               Yes                 No     No      1.254807   \n",
       "\n",
       "   TotalCharge  \n",
       "0  3726.702860  \n",
       "1  4193.190458  \n",
       "2  2434.234222  \n",
       "3  2127.830423  \n",
       "4  2113.073274  "
      ]
     },
     "execution_count": 185,
     "metadata": {},
     "output_type": "execute_result"
    }
   ],
   "source": [
    "# Remove less meaningful categorical variables from dataset to provide fully numerical dataframe for further analysis\n",
    "df = data.drop(columns=['Customer_id', 'Interaction', 'UID', 'City', 'State', 'County', 'Area',\n",
    "       'TimeZone', 'Job', 'Marital', 'Gender','Soft_drink',\n",
    "       'Initial_admin', 'Complication_risk',\n",
    "       'Services','CaseOrder', 'Zip', 'Lat', 'Lng', 'Population', 'Children', 'Age',\n",
    "       'Income', 'VitD_levels', 'Doc_visits', 'Full_meals_eaten', 'vitD_supp',\n",
    "       'Additional_charges', 'Item1', 'Item2',\n",
    "       'Item3', 'Item4', 'Item5', 'Item6', 'Item7', 'Item8'])\n",
    "df.head()"
   ]
  },
  {
   "cell_type": "code",
   "execution_count": 186,
   "metadata": {},
   "outputs": [
    {
     "name": "stdout",
     "output_type": "stream",
     "text": [
      "Index(['ReAdmis', 'HighBlood', 'Stroke', 'Overweight', 'Arthritis', 'Diabetes',\n",
      "       'Hyperlipidemia', 'BackPain', 'Anxiety', 'Allergic_rhinitis',\n",
      "       'Reflux_esophagitis', 'Asthma'],\n",
      "      dtype='object')\n"
     ]
    }
   ],
   "source": [
    "# variable for categorical data\n",
    "cat_cols = df.select_dtypes(include=\"object\").columns\n",
    "print(cat_cols)"
   ]
  },
  {
   "cell_type": "code",
   "execution_count": 187,
   "metadata": {},
   "outputs": [
    {
     "data": {
      "text/plain": [
       "ReAdmis                object\n",
       "HighBlood              object\n",
       "Stroke                 object\n",
       "Overweight             object\n",
       "Arthritis              object\n",
       "Diabetes               object\n",
       "Hyperlipidemia         object\n",
       "BackPain               object\n",
       "Anxiety                object\n",
       "Allergic_rhinitis      object\n",
       "Reflux_esophagitis     object\n",
       "Asthma                 object\n",
       "Initial_days          float64\n",
       "TotalCharge           float64\n",
       "dtype: object"
      ]
     },
     "execution_count": 187,
     "metadata": {},
     "output_type": "execute_result"
    }
   ],
   "source": [
    "df.dtypes"
   ]
  },
  {
   "cell_type": "code",
   "execution_count": 188,
   "metadata": {},
   "outputs": [
    {
     "name": "stdout",
     "output_type": "stream",
     "text": [
      "['ReAdmis_Yes', 'HighBlood_Yes', 'Stroke_Yes', 'Overweight_Yes', 'Arthritis_Yes', 'Diabetes_Yes', 'Hyperlipidemia_Yes', 'BackPain_Yes', 'Anxiety_Yes', 'Allergic_rhinitis_Yes', 'Reflux_esophagitis_Yes', 'Asthma_Yes']\n"
     ]
    }
   ],
   "source": [
    "# convert categorical data into dummy variables \n",
    "for c in cat_cols:\n",
    "    if c in df.columns:\n",
    "        df = pd.get_dummies(df, columns=[c], drop_first=True)\n",
    "pred_vars = df.select_dtypes(include=\"uint8\").columns.tolist()\n",
    "print(pred_vars)"
   ]
  },
  {
   "cell_type": "code",
   "execution_count": null,
   "metadata": {},
   "outputs": [],
   "source": []
  },
  {
   "cell_type": "code",
   "execution_count": null,
   "metadata": {},
   "outputs": [],
   "source": []
  },
  {
   "cell_type": "code",
   "execution_count": null,
   "metadata": {},
   "outputs": [],
   "source": []
  },
  {
   "cell_type": "code",
   "execution_count": null,
   "metadata": {},
   "outputs": [],
   "source": []
  },
  {
   "cell_type": "code",
   "execution_count": null,
   "metadata": {},
   "outputs": [],
   "source": []
  },
  {
   "cell_type": "code",
   "execution_count": null,
   "metadata": {},
   "outputs": [],
   "source": []
  },
  {
   "cell_type": "code",
   "execution_count": null,
   "metadata": {},
   "outputs": [],
   "source": []
  },
  {
   "cell_type": "code",
   "execution_count": null,
   "metadata": {},
   "outputs": [],
   "source": []
  },
  {
   "cell_type": "code",
   "execution_count": 189,
   "metadata": {},
   "outputs": [
    {
     "name": "stdout",
     "output_type": "stream",
     "text": [
      "File saved to: d209_task1_final_data.csv\n"
     ]
    }
   ],
   "source": [
    "# Provide copy of the prepared data set.\n",
    "final_data = 'd209_task1_final_data.csv'\n",
    "df.to_csv(final_data, index=False, header=True)\n",
    "print('File saved to: {}'.format(final_data))"
   ]
  },
  {
   "cell_type": "code",
   "execution_count": 190,
   "metadata": {},
   "outputs": [
    {
     "data": {
      "text/html": [
       "<div>\n",
       "<style scoped>\n",
       "    .dataframe tbody tr th:only-of-type {\n",
       "        vertical-align: middle;\n",
       "    }\n",
       "\n",
       "    .dataframe tbody tr th {\n",
       "        vertical-align: top;\n",
       "    }\n",
       "\n",
       "    .dataframe thead th {\n",
       "        text-align: right;\n",
       "    }\n",
       "</style>\n",
       "<table border=\"1\" class=\"dataframe\">\n",
       "  <thead>\n",
       "    <tr style=\"text-align: right;\">\n",
       "      <th></th>\n",
       "      <th>Initial_days</th>\n",
       "      <th>TotalCharge</th>\n",
       "      <th>ReAdmis_Yes</th>\n",
       "      <th>HighBlood_Yes</th>\n",
       "      <th>Stroke_Yes</th>\n",
       "      <th>Overweight_Yes</th>\n",
       "      <th>Arthritis_Yes</th>\n",
       "      <th>Diabetes_Yes</th>\n",
       "      <th>Hyperlipidemia_Yes</th>\n",
       "      <th>BackPain_Yes</th>\n",
       "      <th>Anxiety_Yes</th>\n",
       "      <th>Allergic_rhinitis_Yes</th>\n",
       "      <th>Reflux_esophagitis_Yes</th>\n",
       "      <th>Asthma_Yes</th>\n",
       "    </tr>\n",
       "  </thead>\n",
       "  <tbody>\n",
       "    <tr>\n",
       "      <th>count</th>\n",
       "      <td>10000.000000</td>\n",
       "      <td>10000.000000</td>\n",
       "      <td>10000.000000</td>\n",
       "      <td>10000.000000</td>\n",
       "      <td>10000.000000</td>\n",
       "      <td>10000.000000</td>\n",
       "      <td>10000.000000</td>\n",
       "      <td>10000.00000</td>\n",
       "      <td>10000.000000</td>\n",
       "      <td>10000.000000</td>\n",
       "      <td>10000.000000</td>\n",
       "      <td>10000.000000</td>\n",
       "      <td>10000.000000</td>\n",
       "      <td>10000.00000</td>\n",
       "    </tr>\n",
       "    <tr>\n",
       "      <th>mean</th>\n",
       "      <td>34.455299</td>\n",
       "      <td>5312.172769</td>\n",
       "      <td>0.366900</td>\n",
       "      <td>0.409000</td>\n",
       "      <td>0.199300</td>\n",
       "      <td>0.709400</td>\n",
       "      <td>0.357400</td>\n",
       "      <td>0.27380</td>\n",
       "      <td>0.337200</td>\n",
       "      <td>0.411400</td>\n",
       "      <td>0.321500</td>\n",
       "      <td>0.394100</td>\n",
       "      <td>0.413500</td>\n",
       "      <td>0.28930</td>\n",
       "    </tr>\n",
       "    <tr>\n",
       "      <th>std</th>\n",
       "      <td>26.309341</td>\n",
       "      <td>2180.393838</td>\n",
       "      <td>0.481983</td>\n",
       "      <td>0.491674</td>\n",
       "      <td>0.399494</td>\n",
       "      <td>0.454062</td>\n",
       "      <td>0.479258</td>\n",
       "      <td>0.44593</td>\n",
       "      <td>0.472777</td>\n",
       "      <td>0.492112</td>\n",
       "      <td>0.467076</td>\n",
       "      <td>0.488681</td>\n",
       "      <td>0.492486</td>\n",
       "      <td>0.45346</td>\n",
       "    </tr>\n",
       "    <tr>\n",
       "      <th>min</th>\n",
       "      <td>1.001981</td>\n",
       "      <td>1938.312067</td>\n",
       "      <td>0.000000</td>\n",
       "      <td>0.000000</td>\n",
       "      <td>0.000000</td>\n",
       "      <td>0.000000</td>\n",
       "      <td>0.000000</td>\n",
       "      <td>0.00000</td>\n",
       "      <td>0.000000</td>\n",
       "      <td>0.000000</td>\n",
       "      <td>0.000000</td>\n",
       "      <td>0.000000</td>\n",
       "      <td>0.000000</td>\n",
       "      <td>0.00000</td>\n",
       "    </tr>\n",
       "    <tr>\n",
       "      <th>25%</th>\n",
       "      <td>7.896215</td>\n",
       "      <td>3179.374015</td>\n",
       "      <td>0.000000</td>\n",
       "      <td>0.000000</td>\n",
       "      <td>0.000000</td>\n",
       "      <td>0.000000</td>\n",
       "      <td>0.000000</td>\n",
       "      <td>0.00000</td>\n",
       "      <td>0.000000</td>\n",
       "      <td>0.000000</td>\n",
       "      <td>0.000000</td>\n",
       "      <td>0.000000</td>\n",
       "      <td>0.000000</td>\n",
       "      <td>0.00000</td>\n",
       "    </tr>\n",
       "    <tr>\n",
       "      <th>50%</th>\n",
       "      <td>35.836244</td>\n",
       "      <td>5213.952000</td>\n",
       "      <td>0.000000</td>\n",
       "      <td>0.000000</td>\n",
       "      <td>0.000000</td>\n",
       "      <td>1.000000</td>\n",
       "      <td>0.000000</td>\n",
       "      <td>0.00000</td>\n",
       "      <td>0.000000</td>\n",
       "      <td>0.000000</td>\n",
       "      <td>0.000000</td>\n",
       "      <td>0.000000</td>\n",
       "      <td>0.000000</td>\n",
       "      <td>0.00000</td>\n",
       "    </tr>\n",
       "    <tr>\n",
       "      <th>75%</th>\n",
       "      <td>61.161020</td>\n",
       "      <td>7459.699750</td>\n",
       "      <td>1.000000</td>\n",
       "      <td>1.000000</td>\n",
       "      <td>0.000000</td>\n",
       "      <td>1.000000</td>\n",
       "      <td>1.000000</td>\n",
       "      <td>1.00000</td>\n",
       "      <td>1.000000</td>\n",
       "      <td>1.000000</td>\n",
       "      <td>1.000000</td>\n",
       "      <td>1.000000</td>\n",
       "      <td>1.000000</td>\n",
       "      <td>1.00000</td>\n",
       "    </tr>\n",
       "    <tr>\n",
       "      <th>max</th>\n",
       "      <td>71.981490</td>\n",
       "      <td>9180.728000</td>\n",
       "      <td>1.000000</td>\n",
       "      <td>1.000000</td>\n",
       "      <td>1.000000</td>\n",
       "      <td>1.000000</td>\n",
       "      <td>1.000000</td>\n",
       "      <td>1.00000</td>\n",
       "      <td>1.000000</td>\n",
       "      <td>1.000000</td>\n",
       "      <td>1.000000</td>\n",
       "      <td>1.000000</td>\n",
       "      <td>1.000000</td>\n",
       "      <td>1.00000</td>\n",
       "    </tr>\n",
       "  </tbody>\n",
       "</table>\n",
       "</div>"
      ],
      "text/plain": [
       "       Initial_days   TotalCharge   ReAdmis_Yes  HighBlood_Yes    Stroke_Yes  \\\n",
       "count  10000.000000  10000.000000  10000.000000   10000.000000  10000.000000   \n",
       "mean      34.455299   5312.172769      0.366900       0.409000      0.199300   \n",
       "std       26.309341   2180.393838      0.481983       0.491674      0.399494   \n",
       "min        1.001981   1938.312067      0.000000       0.000000      0.000000   \n",
       "25%        7.896215   3179.374015      0.000000       0.000000      0.000000   \n",
       "50%       35.836244   5213.952000      0.000000       0.000000      0.000000   \n",
       "75%       61.161020   7459.699750      1.000000       1.000000      0.000000   \n",
       "max       71.981490   9180.728000      1.000000       1.000000      1.000000   \n",
       "\n",
       "       Overweight_Yes  Arthritis_Yes  Diabetes_Yes  Hyperlipidemia_Yes  \\\n",
       "count    10000.000000   10000.000000   10000.00000        10000.000000   \n",
       "mean         0.709400       0.357400       0.27380            0.337200   \n",
       "std          0.454062       0.479258       0.44593            0.472777   \n",
       "min          0.000000       0.000000       0.00000            0.000000   \n",
       "25%          0.000000       0.000000       0.00000            0.000000   \n",
       "50%          1.000000       0.000000       0.00000            0.000000   \n",
       "75%          1.000000       1.000000       1.00000            1.000000   \n",
       "max          1.000000       1.000000       1.00000            1.000000   \n",
       "\n",
       "       BackPain_Yes   Anxiety_Yes  Allergic_rhinitis_Yes  \\\n",
       "count  10000.000000  10000.000000           10000.000000   \n",
       "mean       0.411400      0.321500               0.394100   \n",
       "std        0.492112      0.467076               0.488681   \n",
       "min        0.000000      0.000000               0.000000   \n",
       "25%        0.000000      0.000000               0.000000   \n",
       "50%        0.000000      0.000000               0.000000   \n",
       "75%        1.000000      1.000000               1.000000   \n",
       "max        1.000000      1.000000               1.000000   \n",
       "\n",
       "       Reflux_esophagitis_Yes   Asthma_Yes  \n",
       "count            10000.000000  10000.00000  \n",
       "mean                 0.413500      0.28930  \n",
       "std                  0.492486      0.45346  \n",
       "min                  0.000000      0.00000  \n",
       "25%                  0.000000      0.00000  \n",
       "50%                  0.000000      0.00000  \n",
       "75%                  1.000000      1.00000  \n",
       "max                  1.000000      1.00000  "
      ]
     },
     "execution_count": 190,
     "metadata": {},
     "output_type": "execute_result"
    }
   ],
   "source": [
    "df.describe()"
   ]
  },
  {
   "cell_type": "code",
   "execution_count": 191,
   "metadata": {},
   "outputs": [],
   "source": [
    "# Re-read fully numerical dataset\n",
    "df = pd.read_csv('d209_task1_final_data.csv')\n",
    "\n",
    "y = df['ReAdmis_Yes'].values \n",
    "X = df.drop('ReAdmis_Yes', axis=1).values \n",
    "\n",
    "# Split into training and test set\n",
    "X_train, X_test, y_train, y_test = train_test_split(X, y, test_size = 0.2, random_state=0, stratify=y)"
   ]
  },
  {
   "cell_type": "code",
   "execution_count": 192,
   "metadata": {},
   "outputs": [],
   "source": [
    "#train data \n",
    "trainData = np.column_stack([X_train, y_train]).tolist()\n",
    "np.savetxt(\"traindata.csv\", trainData, delimiter=\",\", fmt=\"%.2f\",\n",
    "           header=\"Initial days, Total Charge, ReAdmis, HighBlood, Stroke, Overweight, Arthritis, Diabetes,Hyperlipidemia, BackPain, Anxiety, Allergic_rhinitis,Reflux_esophagitis, Asthma\", comments=\"\")"
   ]
  },
  {
   "cell_type": "code",
   "execution_count": 193,
   "metadata": {},
   "outputs": [],
   "source": [
    "#test data\n",
    "testData =np.column_stack([X_test, y_test]).tolist()\n",
    "np.savetxt(\"testdata.csv\", testData, delimiter=\",\", fmt=\"%.2f\",\n",
    "           header=\"Initial days, Total Charge, ReAdmis, HighBlood, Stroke, Overweight, Arthritis, Diabetes,Hyperlipidemia, BackPain, Anxiety, Allergic_rhinitis,Reflux_esophagitis, Asthma\", comments=\"\")"
   ]
  },
  {
   "cell_type": "code",
   "execution_count": 194,
   "metadata": {},
   "outputs": [
    {
     "name": "stdout",
     "output_type": "stream",
     "text": [
      "Accuracy of Logistic regression classifier on training set: 0.93\n",
      "Accuracy of Logistic regression classifier on test set: 0.93\n"
     ]
    }
   ],
   "source": [
    "from sklearn.linear_model import LogisticRegression\n",
    "logreg = LogisticRegression()\n",
    "\n",
    "# Fit the classifier to the training data\n",
    "logreg.fit(X_train, y_train)\n",
    "print('Accuracy of Logistic regression classifier on training set: {:.2f}'\n",
    "     .format(logreg.score(X_train, y_train)))\n",
    "print('Accuracy of Logistic regression classifier on test set: {:.2f}'\n",
    "     .format(logreg.score(X_test, y_test)))"
   ]
  },
  {
   "cell_type": "code",
   "execution_count": 195,
   "metadata": {},
   "outputs": [],
   "source": [
    "from sklearn.neighbors import KNeighborsClassifier\n",
    "\n",
    "# Create a k-NN classifier with 7 neighbors: knn\n",
    "knn = KNeighborsClassifier(n_neighbors=7)\n",
    "knn.fit(X_train, y_train)\n",
    "\n",
    "# Instantiate KNN model\n",
    "knn = KNeighborsClassifier()\n",
    "# Fit data to KNN model\n",
    "knn.fit(X_train, y_train)\n",
    "# Predict outcomes from test set\n",
    "y_pred = knn.predict(X_test)"
   ]
  },
  {
   "cell_type": "code",
   "execution_count": 196,
   "metadata": {},
   "outputs": [
    {
     "name": "stdout",
     "output_type": "stream",
     "text": [
      "Initial accuracy score KNN model:  0.974\n"
     ]
    }
   ],
   "source": [
    "# Print initial accuracy score of KNN model\n",
    "print('Initial accuracy score KNN model: ', accuracy_score(y_test, y_pred))"
   ]
  },
  {
   "cell_type": "code",
   "execution_count": 197,
   "metadata": {},
   "outputs": [
    {
     "name": "stdout",
     "output_type": "stream",
     "text": [
      "[[1233   33]\n",
      " [  19  715]]\n",
      "              precision    recall  f1-score   support\n",
      "\n",
      "           0       0.98      0.97      0.98      1266\n",
      "           1       0.96      0.97      0.96       734\n",
      "\n",
      "    accuracy                           0.97      2000\n",
      "   macro avg       0.97      0.97      0.97      2000\n",
      "weighted avg       0.97      0.97      0.97      2000\n",
      "\n"
     ]
    }
   ],
   "source": [
    "from sklearn.metrics import classification_report\n",
    "from sklearn.metrics import confusion_matrix\n",
    "pred = knn.predict(X_test)\n",
    "print(confusion_matrix(y_test, pred))\n",
    "print(classification_report(y_test, pred))"
   ]
  },
  {
   "cell_type": "code",
   "execution_count": 198,
   "metadata": {},
   "outputs": [
    {
     "data": {
      "text/plain": [
       "([<matplotlib.axis.XTick at 0x1925fdd0>,\n",
       "  <matplotlib.axis.XTick at 0x1925f9b0>,\n",
       "  <matplotlib.axis.XTick at 0x1925fa50>,\n",
       "  <matplotlib.axis.XTick at 0x1b9fdf10>,\n",
       "  <matplotlib.axis.XTick at 0x1b9d4ab0>],\n",
       " <a list of 5 Text xticklabel objects>)"
      ]
     },
     "execution_count": 198,
     "metadata": {},
     "output_type": "execute_result"
    },
    {
     "data": {
      "image/png": "[encoded data removed]",
      "text/plain": [
       "<Figure size 432x288 with 1 Axes>"
      ]
     },
     "metadata": {},
     "output_type": "display_data"
    }
   ],
   "source": [
    "#classification before scaling\n",
    "k_range = range(1, 20)\n",
    "scores = []\n",
    "for k in k_range:\n",
    "    knn = KNeighborsClassifier(n_neighbors = k)\n",
    "    knn.fit(X_train, y_train)\n",
    "    scores.append(knn.score(X_test, y_test))\n",
    "plt.figure()\n",
    "plt.xlabel('k')\n",
    "plt.ylabel('accuracy')\n",
    "plt.scatter(k_range, scores)\n",
    "plt.xticks([0,5,10,15,20])"
   ]
  },
  {
   "cell_type": "code",
   "execution_count": 199,
   "metadata": {},
   "outputs": [
    {
     "name": "stdout",
     "output_type": "stream",
     "text": [
      "Accuracy of K-NN classifier on training set: 0.98\n",
      "Accuracy of K-NN classifier on test set: 0.97\n"
     ]
    }
   ],
   "source": [
    "knn = KNeighborsClassifier()\n",
    "knn.fit(X_train, y_train)\n",
    "print('Accuracy of K-NN classifier on training set: {:.2f}'\n",
    "     .format(knn.score(X_train, y_train)))\n",
    "print('Accuracy of K-NN classifier on test set: {:.2f}'\n",
    "     .format(knn.score(X_test, y_test)))"
   ]
  },
  {
   "cell_type": "code",
   "execution_count": 200,
   "metadata": {},
   "outputs": [],
   "source": [
    "# Set steps for pipeline object\n",
    "steps = [('scaler', StandardScaler()),\n",
    " ('knn', KNeighborsClassifier())]\n",
    "\n",
    "# Instantiate pipeline\n",
    "pipeline = Pipeline(steps)\n",
    "\n",
    "# Split dataframe\n",
    "X_train_scaled, X_test_scaled, y_train_scaled, y_test_scaled = train_test_split(X, y, test_size = 0.2, random_state = 1)\n",
    "\n",
    "# Scale dateframe with pipeline object\n",
    "knn_scaled = pipeline.fit(X_train_scaled, y_train_scaled)\n",
    "\n",
    "# Predict from scaled dataframe\n",
    "y_pred_scaled = pipeline.predict(X_test_scaled)"
   ]
  },
  {
   "cell_type": "code",
   "execution_count": 201,
   "metadata": {},
   "outputs": [
    {
     "name": "stdout",
     "output_type": "stream",
     "text": [
      "New accuracy score of scaled KNN model: 0.919\n"
     ]
    }
   ],
   "source": [
    "# Print new accuracy score of scaled KNN model\n",
    "print('New accuracy score of scaled KNN model: {:0.3f}'.format(accuracy_score(y_test_scaled, y_pred_scaled)))"
   ]
  },
  {
   "cell_type": "code",
   "execution_count": 202,
   "metadata": {},
   "outputs": [
    {
     "name": "stdout",
     "output_type": "stream",
     "text": [
      "Accuracy of K-NN classifier on scaled training set: 0.98\n",
      "Accuracy of K-NN classifier on scaled test set: 0.93\n"
     ]
    }
   ],
   "source": [
    "from sklearn.neighbors import KNeighborsClassifier\n",
    "\n",
    "# Create a k-NN classifier with 5 neighbors: knn\n",
    "knn = KNeighborsClassifier(n_neighbors=5)\n",
    "knn.fit(X_train_scaled, y_train_scaled)\n",
    "\n",
    "# Print the accuracy\n",
    "print('Accuracy of K-NN classifier on scaled training set: {:.2f}'\n",
    "     .format(knn.score(X_train_scaled, y_train_scaled)))\n",
    "print('Accuracy of K-NN classifier on scaled test set: {:.2f}'\n",
    "     .format(knn.score(X_test_scaled, y_pred_scaled)))"
   ]
  },
  {
   "cell_type": "code",
   "execution_count": 203,
   "metadata": {},
   "outputs": [
    {
     "name": "stdout",
     "output_type": "stream",
     "text": [
      "              precision    recall  f1-score   support\n",
      "\n",
      "           0       0.97      0.90      0.93      1261\n",
      "           1       0.85      0.96      0.90       739\n",
      "\n",
      "    accuracy                           0.92      2000\n",
      "   macro avg       0.91      0.93      0.92      2000\n",
      "weighted avg       0.93      0.92      0.92      2000\n",
      "\n"
     ]
    }
   ],
   "source": [
    "# Compute classification metrics after scaling\n",
    "print(classification_report(y_test_scaled, y_pred_scaled))"
   ]
  },
  {
   "cell_type": "code",
   "execution_count": 204,
   "metadata": {},
   "outputs": [
    {
     "name": "stdout",
     "output_type": "stream",
     "text": [
      "[[1132  129]\n",
      " [  32  707]]\n"
     ]
    }
   ],
   "source": [
    " # Import sklearn confusion_matrix & generate results\n",
    "from sklearn.metrics import confusion_matrix\n",
    "cf_matrix = confusion_matrix(y_test_scaled, y_pred_scaled)\n",
    "print(cf_matrix)"
   ]
  },
  {
   "cell_type": "code",
   "execution_count": 205,
   "metadata": {},
   "outputs": [
    {
     "data": {
      "image/png": "[encoded data removed]",
      "text/plain": [
       "<Figure size 432x288 with 1 Axes>"
      ]
     },
     "metadata": {},
     "output_type": "display_data"
    }
   ],
   "source": [
    "# Setup arrays to store train and test accuracies\n",
    "neighbors = np.arange(1, 20)\n",
    "train_accuracy = np.empty(len(neighbors))\n",
    "test_accuracy = np.empty(len(neighbors))\n",
    "\n",
    "# Loop over different values of k\n",
    "for i, k in enumerate(neighbors):\n",
    "    # Setup a k-NN Classifier with k neighbors: knn\n",
    "    knn = KNeighborsClassifier(n_neighbors=k)\n",
    "\n",
    "    # Fit the classifier to the training data\n",
    "    knn.fit(X_train_scaled, y_train_scaled)\n",
    "    \n",
    "    #Compute accuracy on the training set scaled\n",
    "    train_accuracy[i] = knn.score(X_train_scaled, y_train_scaled)\n",
    "\n",
    "    #Compute accuracy on the testing set scaled\n",
    "    test_accuracy[i] = knn.score(X_test_scaled, y_test_scaled)\n",
    "\n",
    "# Generate plot\n",
    "plt.title('k-NN: Varying Number of Neighbors')\n",
    "plt.plot(neighbors, test_accuracy, label = 'Testing Accuracy')\n",
    "plt.plot(neighbors, train_accuracy, label = 'Training Accuracy')\n",
    "plt.legend()\n",
    "plt.xlabel('Number of Neighbors')\n",
    "plt.ylabel('Accuracy')\n",
    "plt.show()"
   ]
  },
  {
   "cell_type": "code",
   "execution_count": 206,
   "metadata": {},
   "outputs": [
    {
     "name": "stdout",
     "output_type": "stream",
     "text": [
      "Best parameters for this KNN model: {'n_neighbors': 7}\n"
     ]
    }
   ],
   "source": [
    " # Import GridSearchCV for cross validation of model\n",
    "from sklearn.model_selection import GridSearchCV\n",
    "# Set up parameters grid\n",
    "param_grid = {'n_neighbors': np.arange(1, 50)}\n",
    "# Re-intantiate KNN for cross validation\n",
    "knn = KNeighborsClassifier()\n",
    "# Instantiate GridSearch cross validation\n",
    "knn_cv = GridSearchCV(knn , param_grid, cv=5)\n",
    "# Fit model to\n",
    "knn_cv.fit(X_train_scaled, y_train_scaled)\n",
    "# Print best parameters\n",
    "print('Best parameters for this KNN model: {}'.format(knn_cv.best_params_))"
   ]
  },
  {
   "cell_type": "code",
   "execution_count": 207,
   "metadata": {},
   "outputs": [
    {
     "name": "stdout",
     "output_type": "stream",
     "text": [
      "Best score for this KNN model: 0.973\n"
     ]
    }
   ],
   "source": [
    "# Generate model best score\n",
    "print('Best score for this KNN model: {:.3f}'.format(knn_cv.best_score_))"
   ]
  },
  {
   "cell_type": "code",
   "execution_count": 208,
   "metadata": {},
   "outputs": [
    {
     "name": "stdout",
     "output_type": "stream",
     "text": [
      "The Area under curve (AUC) on validation dataset is: 0.9945\n"
     ]
    }
   ],
   "source": [
    " # Import ROC AUC metrics for explaining the area under the curve\n",
    "from sklearn.metrics import roc_auc_score\n",
    "# Fit it to the data\n",
    "knn_cv.fit(X_train_scaled, y_train_scaled)\n",
    "# Compute predicted probabilities: y_pred_prob\n",
    "y_pred_prob = knn_cv.predict_proba(X_test_scaled)[::,1]\n",
    "# Compute and print AUC score\n",
    "print(\"The Area under curve (AUC) on validation dataset is: {:.4f}\".format(roc_auc_score(y_test_scaled, y_pred_prob)))"
   ]
  },
  {
   "cell_type": "code",
   "execution_count": 209,
   "metadata": {},
   "outputs": [
    {
     "name": "stdout",
     "output_type": "stream",
     "text": [
      "AUC scores computed using 5-fold cross-validation: [0.98874461 0.98769025 0.98362347 0.99345511 0.98863606]\n",
      "The mean of the AUC scores computed using 5-fold cross-validation: 0.9884298994957961\n"
     ]
    }
   ],
   "source": [
    "# Compute cross-validated AUC scores: cv_auc\n",
    "cv_auc = cross_val_score(knn_cv, X_train_scaled, y_train_scaled, cv=5, scoring='roc_auc')\n",
    "# Print list of AUC scores\n",
    "print(\"AUC scores computed using 5-fold cross-validation: {}\".format(cv_auc))\n",
    "print(\"The mean of the AUC scores computed using 5-fold cross-validation: {}\".format(cv_auc.mean()))"
   ]
  },
  {
   "cell_type": "code",
   "execution_count": null,
   "metadata": {},
   "outputs": [],
   "source": []
  }
 ],
 "metadata": {
  "kernelspec": {
   "display_name": "Python 3 (ipykernel)",
   "language": "python",
   "name": "python3"
  },
  "language_info": {
   "codemirror_mode": {
    "name": "ipython",
    "version": 3
   },
   "file_extension": ".py",
   "mimetype": "text/x-python",
   "name": "python",
   "nbconvert_exporter": "python",
   "pygments_lexer": "ipython3",
   "version": "3.9.7"
  }
 },
 "nbformat": 4,
 "nbformat_minor": 2
}
